{
 "cells": [
  {
   "cell_type": "raw",
   "metadata": {},
   "source": [
    "---\n",
    "title: \"Datasets\"\n",
    "---\n"
   ]
  },
  {
   "cell_type": "markdown",
   "metadata": {},
   "source": [
    "Explore and use Datadex datasets in your preferred tools!"
   ]
  },
  {
   "cell_type": "markdown",
   "metadata": {},
   "source": [
    "## 🔍 Explore\n",
    "\n",
    "You can a sense of how the datasets produced look by [exploring them in HuggingFace](https://huggingface.co/datonic). With each commit to `main`, Datadex will push a new version of the datasets as Parquet files.\n",
    "\n",
    "These are the available Datasets!"
   ]
  },
  {
   "cell_type": "code",
   "execution_count": 8,
   "metadata": {},
   "outputs": [
    {
     "data": {
      "text/markdown": [
       "  * [wikidata_asteroids](https://huggingface.co/datasets/datonic/wikidata_asteroids)"
      ],
      "text/plain": [
       "<IPython.core.display.Markdown object>"
      ]
     },
     "metadata": {},
     "output_type": "display_data"
    },
    {
     "data": {
      "text/markdown": [
       "  * [country_year_indicators](https://huggingface.co/datasets/datonic/country_year_indicators)"
      ],
      "text/plain": [
       "<IPython.core.display.Markdown object>"
      ]
     },
     "metadata": {},
     "output_type": "display_data"
    },
    {
     "data": {
      "text/markdown": [
       "  * [threatened_animal_species](https://huggingface.co/datasets/datonic/threatened_animal_species)"
      ],
      "text/plain": [
       "<IPython.core.display.Markdown object>"
      ]
     },
     "metadata": {},
     "output_type": "display_data"
    },
    {
     "data": {
      "text/markdown": [
       "  * [spain_ipc](https://huggingface.co/datasets/datonic/spain_ipc)"
      ],
      "text/plain": [
       "<IPython.core.display.Markdown object>"
      ]
     },
     "metadata": {},
     "output_type": "display_data"
    },
    {
     "data": {
      "text/markdown": [
       "  * [spain_water_reservoirs_data](https://huggingface.co/datasets/datonic/spain_water_reservoirs_data)"
      ],
      "text/plain": [
       "<IPython.core.display.Markdown object>"
      ]
     },
     "metadata": {},
     "output_type": "display_data"
    },
    {
     "data": {
      "text/markdown": [
       "  * [spain_energy_demand](https://huggingface.co/datasets/datonic/spain_energy_demand)"
      ],
      "text/plain": [
       "<IPython.core.display.Markdown object>"
      ]
     },
     "metadata": {},
     "output_type": "display_data"
    },
    {
     "data": {
      "text/markdown": [
       "  * [spain_aemet_historical_weather](https://huggingface.co/datasets/datonic/spain_aemet_historical_weather)"
      ],
      "text/plain": [
       "<IPython.core.display.Markdown object>"
      ]
     },
     "metadata": {},
     "output_type": "display_data"
    }
   ],
   "source": [
    "# | echo: false\n",
    "\n",
    "from IPython.display import Markdown, display\n",
    "from huggingface_hub import HfApi\n",
    "\n",
    "api = HfApi()\n",
    "\n",
    "datasets = []\n",
    "for dataset in api.list_datasets(author=\"datonic\"):\n",
    "    display(\n",
    "        Markdown(\n",
    "            f\"  * [{dataset.id.split(\"/\")[1]}](https://huggingface.co/datasets/{dataset.id})\"\n",
    "        )\n",
    "    )\n",
    "    datasets.append(dataset.id)"
   ]
  },
  {
   "cell_type": "markdown",
   "metadata": {},
   "source": [
    "## 🔧 Use\n",
    "\n",
    "Since the datasets are just Parquet files somewhere. \n",
    "You can use pretty much any tool or framework to explore them.\n",
    "Let's look at the [Spain IPC dataset](https://huggingface.co/datasets/datonic/spain_ipc) with Polars."
   ]
  },
  {
   "cell_type": "code",
   "execution_count": 12,
   "metadata": {},
   "outputs": [],
   "source": [
    "import polars as pl\n",
    "\n",
    "df = pl.read_parquet(\n",
    "    \"https://huggingface.co/datasets/datonic/spain_ipc/resolve/refs%2Fconvert%2Fparquet/default/main/0000.parquet\"\n",
    ")"
   ]
  },
  {
   "cell_type": "code",
   "execution_count": 21,
   "metadata": {},
   "outputs": [
    {
     "data": {
      "text/html": [
       "<div><style>\n",
       ".dataframe > thead > tr,\n",
       ".dataframe > tbody > tr {\n",
       "  text-align: right;\n",
       "  white-space: pre-wrap;\n",
       "}\n",
       "</style>\n",
       "<small>shape: (4, 6)</small><table border=\"1\" class=\"dataframe\"><thead><tr><th>periodo</th><th>clases</th><th>indice</th><th>variacion_mensual</th><th>variacion_anual</th><th>variacion_en_lo_que_va_de_ano</th></tr><tr><td>date</td><td>str</td><td>f64</td><td>f64</td><td>f64</td><td>f64</td></tr></thead><tbody><tr><td>2018-05-01</td><td>&quot;1254 Seguros relacionados con …</td><td>96.323</td><td>0.0</td><td>1.5</td><td>0.0</td></tr><tr><td>2010-04-01</td><td>&quot;0312 Prendas de vestir&quot;</td><td>98.85</td><td>10.3</td><td>-1.2</td><td>-4.8</td></tr><tr><td>2014-08-01</td><td>&quot;0952 Prensa&quot;</td><td>86.534</td><td>0.6</td><td>1.7</td><td>0.9</td></tr><tr><td>2013-08-01</td><td>&quot;0942 Servicios culturales&quot;</td><td>99.054</td><td>0.3</td><td>10.7</td><td>1.4</td></tr></tbody></table></div>"
      ],
      "text/plain": [
       "shape: (4, 6)\n",
       "┌────────────┬───────────────────┬────────┬───────────────────┬─────────────────┬──────────────────┐\n",
       "│ periodo    ┆ clases            ┆ indice ┆ variacion_mensual ┆ variacion_anual ┆ variacion_en_lo_ │\n",
       "│ ---        ┆ ---               ┆ ---    ┆ ---               ┆ ---             ┆ que_va_de_ano    │\n",
       "│ date       ┆ str               ┆ f64    ┆ f64               ┆ f64             ┆ ---              │\n",
       "│            ┆                   ┆        ┆                   ┆                 ┆ f64              │\n",
       "╞════════════╪═══════════════════╪════════╪═══════════════════╪═════════════════╪══════════════════╡\n",
       "│ 2018-05-01 ┆ 1254 Seguros      ┆ 96.323 ┆ 0.0               ┆ 1.5             ┆ 0.0              │\n",
       "│            ┆ relacionados con  ┆        ┆                   ┆                 ┆                  │\n",
       "│            ┆ …                 ┆        ┆                   ┆                 ┆                  │\n",
       "│ 2010-04-01 ┆ 0312 Prendas de   ┆ 98.85  ┆ 10.3              ┆ -1.2            ┆ -4.8             │\n",
       "│            ┆ vestir            ┆        ┆                   ┆                 ┆                  │\n",
       "│ 2014-08-01 ┆ 0952 Prensa       ┆ 86.534 ┆ 0.6               ┆ 1.7             ┆ 0.9              │\n",
       "│ 2013-08-01 ┆ 0942 Servicios    ┆ 99.054 ┆ 0.3               ┆ 10.7            ┆ 1.4              │\n",
       "│            ┆ culturales        ┆        ┆                   ┆                 ┆                  │\n",
       "└────────────┴───────────────────┴────────┴───────────────────┴─────────────────┴──────────────────┘"
      ]
     },
     "execution_count": 21,
     "metadata": {},
     "output_type": "execute_result"
    }
   ],
   "source": [
    "df.sample(4)"
   ]
  },
  {
   "cell_type": "code",
   "execution_count": 22,
   "metadata": {},
   "outputs": [],
   "source": [
    "ipc_prensa = df.filter(pl.col(\"clases\") == \"0952 Prensa\")"
   ]
  },
  {
   "cell_type": "code",
   "execution_count": 27,
   "metadata": {},
   "outputs": [
    {
     "data": {
      "text/html": [
       "\n",
       "<style>\n",
       "  #altair-viz-62369247b7894f23829c4858d7bb8fa1.vega-embed {\n",
       "    width: 100%;\n",
       "    display: flex;\n",
       "  }\n",
       "\n",
       "  #altair-viz-62369247b7894f23829c4858d7bb8fa1.vega-embed details,\n",
       "  #altair-viz-62369247b7894f23829c4858d7bb8fa1.vega-embed details summary {\n",
       "    position: relative;\n",
       "  }\n",
       "</style>\n",
       "<div id=\"altair-viz-62369247b7894f23829c4858d7bb8fa1\"></div>\n",
       "<script type=\"text/javascript\">\n",
       "  var VEGA_DEBUG = (typeof VEGA_DEBUG == \"undefined\") ? {} : VEGA_DEBUG;\n",
       "  (function(spec, embedOpt){\n",
       "    let outputDiv = document.currentScript.previousElementSibling;\n",
       "    if (outputDiv.id !== \"altair-viz-62369247b7894f23829c4858d7bb8fa1\") {\n",
       "      outputDiv = document.getElementById(\"altair-viz-62369247b7894f23829c4858d7bb8fa1\");\n",
       "    }\n",
       "    const paths = {\n",
       "      \"vega\": \"https://cdn.jsdelivr.net/npm/vega@5?noext\",\n",
       "      \"vega-lib\": \"https://cdn.jsdelivr.net/npm/vega-lib?noext\",\n",
       "      \"vega-lite\": \"https://cdn.jsdelivr.net/npm/vega-lite@5.17.0?noext\",\n",
       "      \"vega-embed\": \"https://cdn.jsdelivr.net/npm/vega-embed@6?noext\",\n",
       "    };\n",
       "\n",
       "    function maybeLoadScript(lib, version) {\n",
       "      var key = `${lib.replace(\"-\", \"\")}_version`;\n",
       "      return (VEGA_DEBUG[key] == version) ?\n",
       "        Promise.resolve(paths[lib]) :\n",
       "        new Promise(function(resolve, reject) {\n",
       "          var s = document.createElement('script');\n",
       "          document.getElementsByTagName(\"head\")[0].appendChild(s);\n",
       "          s.async = true;\n",
       "          s.onload = () => {\n",
       "            VEGA_DEBUG[key] = version;\n",
       "            return resolve(paths[lib]);\n",
       "          };\n",
       "          s.onerror = () => reject(`Error loading script: ${paths[lib]}`);\n",
       "          s.src = paths[lib];\n",
       "        });\n",
       "    }\n",
       "\n",
       "    function showError(err) {\n",
       "      outputDiv.innerHTML = `<div class=\"error\" style=\"color:red;\">${err}</div>`;\n",
       "      throw err;\n",
       "    }\n",
       "\n",
       "    function displayChart(vegaEmbed) {\n",
       "      vegaEmbed(outputDiv, spec, embedOpt)\n",
       "        .catch(err => showError(`Javascript Error: ${err.message}<br>This usually means there's a typo in your chart specification. See the javascript console for the full traceback.`));\n",
       "    }\n",
       "\n",
       "    if(typeof define === \"function\" && define.amd) {\n",
       "      requirejs.config({paths});\n",
       "      require([\"vega-embed\"], displayChart, err => showError(`Error loading script: ${err.message}`));\n",
       "    } else {\n",
       "      maybeLoadScript(\"vega\", \"5\")\n",
       "        .then(() => maybeLoadScript(\"vega-lite\", \"5.17.0\"))\n",
       "        .then(() => maybeLoadScript(\"vega-embed\", \"6\"))\n",
       "        .catch(showError)\n",
       "        .then(() => displayChart(vegaEmbed));\n",
       "    }\n",
       "  })({\"config\": {\"view\": {\"continuousWidth\": 300, \"continuousHeight\": 300}}, \"data\": {\"name\": \"data-2cbfdd4b297480822305722ade0f73c0\"}, \"mark\": {\"type\": \"line\"}, \"encoding\": {\"tooltip\": [{\"field\": \"periodo\", \"type\": \"temporal\"}, {\"field\": \"indice\", \"type\": \"quantitative\"}], \"x\": {\"axis\": {\"labelAngle\": -45}, \"field\": \"periodo\", \"title\": \"Period\", \"type\": \"temporal\"}, \"y\": {\"field\": \"indice\", \"title\": \"Index\", \"type\": \"quantitative\"}}, \"height\": 400, \"title\": \"IPC Prensa Over Time\", \"width\": \"container\", \"$schema\": \"https://vega.github.io/schema/vega-lite/v5.17.0.json\", \"datasets\": {\"data-2cbfdd4b297480822305722ade0f73c0\": [{\"periodo\": \"2024-04-01T00:00:00\", \"clases\": \"0952 Prensa\", \"indice\": 114.307, \"variacion_mensual\": 1.1, \"variacion_anual\": 4.2, \"variacion_en_lo_que_va_de_ano\": 3.4}, {\"periodo\": \"2024-03-01T00:00:00\", \"clases\": \"0952 Prensa\", \"indice\": 113.074, \"variacion_mensual\": 0.0, \"variacion_anual\": 2.9, \"variacion_en_lo_que_va_de_ano\": 2.3}, {\"periodo\": \"2024-02-01T00:00:00\", \"clases\": \"0952 Prensa\", \"indice\": 113.021, \"variacion_mensual\": 0.1, \"variacion_anual\": 2.9, \"variacion_en_lo_que_va_de_ano\": 2.2}, {\"periodo\": \"2024-01-01T00:00:00\", \"clases\": \"0952 Prensa\", \"indice\": 112.937, \"variacion_mensual\": 2.2, \"variacion_anual\": 3.2, \"variacion_en_lo_que_va_de_ano\": 2.2}, {\"periodo\": \"2023-12-01T00:00:00\", \"clases\": \"0952 Prensa\", \"indice\": 110.54, \"variacion_mensual\": 0.4, \"variacion_anual\": 3.9, \"variacion_en_lo_que_va_de_ano\": 3.9}, {\"periodo\": \"2023-11-01T00:00:00\", \"clases\": \"0952 Prensa\", \"indice\": 110.088, \"variacion_mensual\": 0.0, \"variacion_anual\": 3.7, \"variacion_en_lo_que_va_de_ano\": 3.5}, {\"periodo\": \"2023-10-01T00:00:00\", \"clases\": \"0952 Prensa\", \"indice\": 110.088, \"variacion_mensual\": -0.3, \"variacion_anual\": 3.7, \"variacion_en_lo_que_va_de_ano\": 3.5}, {\"periodo\": \"2023-09-01T00:00:00\", \"clases\": \"0952 Prensa\", \"indice\": 110.388, \"variacion_mensual\": 0.0, \"variacion_anual\": 4.3, \"variacion_en_lo_que_va_de_ano\": 3.8}, {\"periodo\": \"2023-08-01T00:00:00\", \"clases\": \"0952 Prensa\", \"indice\": 110.389, \"variacion_mensual\": 0.0, \"variacion_anual\": 4.4, \"variacion_en_lo_que_va_de_ano\": 3.8}, {\"periodo\": \"2023-07-01T00:00:00\", \"clases\": \"0952 Prensa\", \"indice\": 110.354, \"variacion_mensual\": -0.1, \"variacion_anual\": 4.4, \"variacion_en_lo_que_va_de_ano\": 3.8}, {\"periodo\": \"2023-06-01T00:00:00\", \"clases\": \"0952 Prensa\", \"indice\": 110.499, \"variacion_mensual\": 0.0, \"variacion_anual\": 4.1, \"variacion_en_lo_que_va_de_ano\": 3.9}, {\"periodo\": \"2023-05-01T00:00:00\", \"clases\": \"0952 Prensa\", \"indice\": 110.499, \"variacion_mensual\": 0.7, \"variacion_anual\": 4.1, \"variacion_en_lo_que_va_de_ano\": 3.9}, {\"periodo\": \"2023-04-01T00:00:00\", \"clases\": \"0952 Prensa\", \"indice\": 109.689, \"variacion_mensual\": -0.1, \"variacion_anual\": 3.5, \"variacion_en_lo_que_va_de_ano\": 3.1}, {\"periodo\": \"2023-03-01T00:00:00\", \"clases\": \"0952 Prensa\", \"indice\": 109.849, \"variacion_mensual\": 0.0, \"variacion_anual\": 3.9, \"variacion_en_lo_que_va_de_ano\": 3.3}, {\"periodo\": \"2023-02-01T00:00:00\", \"clases\": \"0952 Prensa\", \"indice\": 109.84, \"variacion_mensual\": 0.3, \"variacion_anual\": 4.0, \"variacion_en_lo_que_va_de_ano\": 3.3}, {\"periodo\": \"2023-01-01T00:00:00\", \"clases\": \"0952 Prensa\", \"indice\": 109.469, \"variacion_mensual\": 2.9, \"variacion_anual\": 4.1, \"variacion_en_lo_que_va_de_ano\": 2.9}, {\"periodo\": \"2022-12-01T00:00:00\", \"clases\": \"0952 Prensa\", \"indice\": 106.349, \"variacion_mensual\": 0.2, \"variacion_anual\": 4.3, \"variacion_en_lo_que_va_de_ano\": 4.3}, {\"periodo\": \"2022-11-01T00:00:00\", \"clases\": \"0952 Prensa\", \"indice\": 106.119, \"variacion_mensual\": 0.0, \"variacion_anual\": 5.0, \"variacion_en_lo_que_va_de_ano\": 4.1}, {\"periodo\": \"2022-10-01T00:00:00\", \"clases\": \"0952 Prensa\", \"indice\": 106.119, \"variacion_mensual\": 0.2, \"variacion_anual\": 5.1, \"variacion_en_lo_que_va_de_ano\": 4.1}, {\"periodo\": \"2022-09-01T00:00:00\", \"clases\": \"0952 Prensa\", \"indice\": 105.862, \"variacion_mensual\": 0.1, \"variacion_anual\": 5.3, \"variacion_en_lo_que_va_de_ano\": 3.8}, {\"periodo\": \"2022-08-01T00:00:00\", \"clases\": \"0952 Prensa\", \"indice\": 105.711, \"variacion_mensual\": 0.0, \"variacion_anual\": 5.3, \"variacion_en_lo_que_va_de_ano\": 3.7}, {\"periodo\": \"2022-07-01T00:00:00\", \"clases\": \"0952 Prensa\", \"indice\": 105.671, \"variacion_mensual\": -0.5, \"variacion_anual\": 5.2, \"variacion_en_lo_que_va_de_ano\": 3.6}, {\"periodo\": \"2022-06-01T00:00:00\", \"clases\": \"0952 Prensa\", \"indice\": 106.191, \"variacion_mensual\": 0.0, \"variacion_anual\": 6.6, \"variacion_en_lo_que_va_de_ano\": 4.2}, {\"periodo\": \"2022-05-01T00:00:00\", \"clases\": \"0952 Prensa\", \"indice\": 106.191, \"variacion_mensual\": 0.2, \"variacion_anual\": 7.1, \"variacion_en_lo_que_va_de_ano\": 4.2}, {\"periodo\": \"2022-04-01T00:00:00\", \"clases\": \"0952 Prensa\", \"indice\": 105.939, \"variacion_mensual\": 0.2, \"variacion_anual\": 6.8, \"variacion_en_lo_que_va_de_ano\": 3.9}, {\"periodo\": \"2022-03-01T00:00:00\", \"clases\": \"0952 Prensa\", \"indice\": 105.763, \"variacion_mensual\": 0.1, \"variacion_anual\": 6.7, \"variacion_en_lo_que_va_de_ano\": 3.7}, {\"periodo\": \"2022-02-01T00:00:00\", \"clases\": \"0952 Prensa\", \"indice\": 105.637, \"variacion_mensual\": 0.4, \"variacion_anual\": 6.9, \"variacion_en_lo_que_va_de_ano\": 3.6}, {\"periodo\": \"2022-01-01T00:00:00\", \"clases\": \"0952 Prensa\", \"indice\": 105.172, \"variacion_mensual\": 3.2, \"variacion_anual\": 6.5, \"variacion_en_lo_que_va_de_ano\": 3.2}, {\"periodo\": \"2021-12-01T00:00:00\", \"clases\": \"0952 Prensa\", \"indice\": 101.956, \"variacion_mensual\": 0.9, \"variacion_anual\": 3.7, \"variacion_en_lo_que_va_de_ano\": 3.7}, {\"periodo\": \"2021-11-01T00:00:00\", \"clases\": \"0952 Prensa\", \"indice\": 101.053, \"variacion_mensual\": 0.0, \"variacion_anual\": 3.4, \"variacion_en_lo_que_va_de_ano\": 2.7}, {\"periodo\": \"2021-10-01T00:00:00\", \"clases\": \"0952 Prensa\", \"indice\": 101.007, \"variacion_mensual\": 0.4, \"variacion_anual\": 2.6, \"variacion_en_lo_que_va_de_ano\": 2.7}, {\"periodo\": \"2021-09-01T00:00:00\", \"clases\": \"0952 Prensa\", \"indice\": 100.562, \"variacion_mensual\": 0.2, \"variacion_anual\": 3.0, \"variacion_en_lo_que_va_de_ano\": 2.2}, {\"periodo\": \"2021-08-01T00:00:00\", \"clases\": \"0952 Prensa\", \"indice\": 100.4, \"variacion_mensual\": 0.0, \"variacion_anual\": 2.6, \"variacion_en_lo_que_va_de_ano\": 2.1}, {\"periodo\": \"2021-07-01T00:00:00\", \"clases\": \"0952 Prensa\", \"indice\": 100.428, \"variacion_mensual\": 0.8, \"variacion_anual\": 2.8, \"variacion_en_lo_que_va_de_ano\": 2.1}, {\"periodo\": \"2021-06-01T00:00:00\", \"clases\": \"0952 Prensa\", \"indice\": 99.588, \"variacion_mensual\": 0.4, \"variacion_anual\": 2.1, \"variacion_en_lo_que_va_de_ano\": 1.3}, {\"periodo\": \"2021-05-01T00:00:00\", \"clases\": \"0952 Prensa\", \"indice\": 99.168, \"variacion_mensual\": 0.0, \"variacion_anual\": 1.8, \"variacion_en_lo_que_va_de_ano\": 0.8}, {\"periodo\": \"2021-04-01T00:00:00\", \"clases\": \"0952 Prensa\", \"indice\": 99.162, \"variacion_mensual\": 0.1, \"variacion_anual\": 1.2, \"variacion_en_lo_que_va_de_ano\": 0.8}, {\"periodo\": \"2021-03-01T00:00:00\", \"clases\": \"0952 Prensa\", \"indice\": 99.09, \"variacion_mensual\": 0.3, \"variacion_anual\": 1.8, \"variacion_en_lo_que_va_de_ano\": 0.7}, {\"periodo\": \"2021-02-01T00:00:00\", \"clases\": \"0952 Prensa\", \"indice\": 98.832, \"variacion_mensual\": 0.1, \"variacion_anual\": 1.4, \"variacion_en_lo_que_va_de_ano\": 0.5}, {\"periodo\": \"2021-01-01T00:00:00\", \"clases\": \"0952 Prensa\", \"indice\": 98.753, \"variacion_mensual\": 0.4, \"variacion_anual\": 0.8, \"variacion_en_lo_que_va_de_ano\": 0.4}, {\"periodo\": \"2020-12-01T00:00:00\", \"clases\": \"0952 Prensa\", \"indice\": 98.358, \"variacion_mensual\": 0.7, \"variacion_anual\": 1.2, \"variacion_en_lo_que_va_de_ano\": 1.2}, {\"periodo\": \"2020-11-01T00:00:00\", \"clases\": \"0952 Prensa\", \"indice\": 97.697, \"variacion_mensual\": -0.8, \"variacion_anual\": 1.4, \"variacion_en_lo_que_va_de_ano\": 0.5}, {\"periodo\": \"2020-10-01T00:00:00\", \"clases\": \"0952 Prensa\", \"indice\": 98.448, \"variacion_mensual\": 0.8, \"variacion_anual\": 1.8, \"variacion_en_lo_que_va_de_ano\": 1.3}, {\"periodo\": \"2020-09-01T00:00:00\", \"clases\": \"0952 Prensa\", \"indice\": 97.664, \"variacion_mensual\": -0.1, \"variacion_anual\": 1.4, \"variacion_en_lo_que_va_de_ano\": 0.5}, {\"periodo\": \"2020-08-01T00:00:00\", \"clases\": \"0952 Prensa\", \"indice\": 97.81, \"variacion_mensual\": 0.1, \"variacion_anual\": 0.6, \"variacion_en_lo_que_va_de_ano\": 0.6}, {\"periodo\": \"2020-07-01T00:00:00\", \"clases\": \"0952 Prensa\", \"indice\": 97.712, \"variacion_mensual\": 0.2, \"variacion_anual\": 1.1, \"variacion_en_lo_que_va_de_ano\": 0.5}, {\"periodo\": \"2020-06-01T00:00:00\", \"clases\": \"0952 Prensa\", \"indice\": 97.501, \"variacion_mensual\": 0.1, \"variacion_anual\": 2.8, \"variacion_en_lo_que_va_de_ano\": 0.3}, {\"periodo\": \"2020-05-01T00:00:00\", \"clases\": \"0952 Prensa\", \"indice\": 97.371, \"variacion_mensual\": -0.6, \"variacion_anual\": 3.1, \"variacion_en_lo_que_va_de_ano\": 0.2}, {\"periodo\": \"2020-04-01T00:00:00\", \"clases\": \"0952 Prensa\", \"indice\": 97.98, \"variacion_mensual\": 0.7, \"variacion_anual\": 5.1, \"variacion_en_lo_que_va_de_ano\": 0.8}, {\"periodo\": \"2020-03-01T00:00:00\", \"clases\": \"0952 Prensa\", \"indice\": 97.323, \"variacion_mensual\": -0.2, \"variacion_anual\": 4.4, \"variacion_en_lo_que_va_de_ano\": 0.1}, {\"periodo\": \"2020-02-01T00:00:00\", \"clases\": \"0952 Prensa\", \"indice\": 97.486, \"variacion_mensual\": -0.5, \"variacion_anual\": 4.9, \"variacion_en_lo_que_va_de_ano\": 0.3}, {\"periodo\": \"2020-01-01T00:00:00\", \"clases\": \"0952 Prensa\", \"indice\": 98.001, \"variacion_mensual\": 0.8, \"variacion_anual\": 5.2, \"variacion_en_lo_que_va_de_ano\": 0.8}, {\"periodo\": \"2019-12-01T00:00:00\", \"clases\": \"0952 Prensa\", \"indice\": 97.197, \"variacion_mensual\": 0.9, \"variacion_anual\": 4.7, \"variacion_en_lo_que_va_de_ano\": 4.7}, {\"periodo\": \"2019-11-01T00:00:00\", \"clases\": \"0952 Prensa\", \"indice\": 96.324, \"variacion_mensual\": -0.4, \"variacion_anual\": 4.3, \"variacion_en_lo_que_va_de_ano\": 3.8}, {\"periodo\": \"2019-10-01T00:00:00\", \"clases\": \"0952 Prensa\", \"indice\": 96.731, \"variacion_mensual\": 0.4, \"variacion_anual\": 4.8, \"variacion_en_lo_que_va_de_ano\": 4.2}, {\"periodo\": \"2019-09-01T00:00:00\", \"clases\": \"0952 Prensa\", \"indice\": 96.337, \"variacion_mensual\": -0.9, \"variacion_anual\": 4.4, \"variacion_en_lo_que_va_de_ano\": 3.8}, {\"periodo\": \"2019-08-01T00:00:00\", \"clases\": \"0952 Prensa\", \"indice\": 97.193, \"variacion_mensual\": 0.5, \"variacion_anual\": 4.3, \"variacion_en_lo_que_va_de_ano\": 4.7}, {\"periodo\": \"2019-07-01T00:00:00\", \"clases\": \"0952 Prensa\", \"indice\": 96.694, \"variacion_mensual\": 1.9, \"variacion_anual\": 4.0, \"variacion_en_lo_que_va_de_ano\": 4.2}, {\"periodo\": \"2019-06-01T00:00:00\", \"clases\": \"0952 Prensa\", \"indice\": 94.872, \"variacion_mensual\": 0.4, \"variacion_anual\": 2.8, \"variacion_en_lo_que_va_de_ano\": 2.2}, {\"periodo\": \"2019-05-01T00:00:00\", \"clases\": \"0952 Prensa\", \"indice\": 94.448, \"variacion_mensual\": 1.3, \"variacion_anual\": 3.2, \"variacion_en_lo_que_va_de_ano\": 1.7}, {\"periodo\": \"2019-04-01T00:00:00\", \"clases\": \"0952 Prensa\", \"indice\": 93.243, \"variacion_mensual\": 0.0, \"variacion_anual\": 1.9, \"variacion_en_lo_que_va_de_ano\": 0.4}, {\"periodo\": \"2019-03-01T00:00:00\", \"clases\": \"0952 Prensa\", \"indice\": 93.249, \"variacion_mensual\": 0.4, \"variacion_anual\": 2.5, \"variacion_en_lo_que_va_de_ano\": 0.4}, {\"periodo\": \"2019-02-01T00:00:00\", \"clases\": \"0952 Prensa\", \"indice\": 92.904, \"variacion_mensual\": -0.3, \"variacion_anual\": 1.9, \"variacion_en_lo_que_va_de_ano\": 0.1}, {\"periodo\": \"2019-01-01T00:00:00\", \"clases\": \"0952 Prensa\", \"indice\": 93.196, \"variacion_mensual\": 0.4, \"variacion_anual\": 1.9, \"variacion_en_lo_que_va_de_ano\": 0.4}, {\"periodo\": \"2018-12-01T00:00:00\", \"clases\": \"0952 Prensa\", \"indice\": 92.838, \"variacion_mensual\": 0.5, \"variacion_anual\": 2.1, \"variacion_en_lo_que_va_de_ano\": 2.1}, {\"periodo\": \"2018-11-01T00:00:00\", \"clases\": \"0952 Prensa\", \"indice\": 92.358, \"variacion_mensual\": 0.1, \"variacion_anual\": 1.1, \"variacion_en_lo_que_va_de_ano\": 1.6}, {\"periodo\": \"2018-10-01T00:00:00\", \"clases\": \"0952 Prensa\", \"indice\": 92.296, \"variacion_mensual\": 0.0, \"variacion_anual\": 1.7, \"variacion_en_lo_que_va_de_ano\": 1.5}, {\"periodo\": \"2018-09-01T00:00:00\", \"clases\": \"0952 Prensa\", \"indice\": 92.298, \"variacion_mensual\": -0.9, \"variacion_anual\": 0.7, \"variacion_en_lo_que_va_de_ano\": 1.5}, {\"periodo\": \"2018-08-01T00:00:00\", \"clases\": \"0952 Prensa\", \"indice\": 93.149, \"variacion_mensual\": 0.2, \"variacion_anual\": 1.7, \"variacion_en_lo_que_va_de_ano\": 2.5}, {\"periodo\": \"2018-07-01T00:00:00\", \"clases\": \"0952 Prensa\", \"indice\": 92.971, \"variacion_mensual\": 0.7, \"variacion_anual\": 2.5, \"variacion_en_lo_que_va_de_ano\": 2.3}, {\"periodo\": \"2018-06-01T00:00:00\", \"clases\": \"0952 Prensa\", \"indice\": 92.303, \"variacion_mensual\": 0.9, \"variacion_anual\": 2.0, \"variacion_en_lo_que_va_de_ano\": 1.5}, {\"periodo\": \"2018-05-01T00:00:00\", \"clases\": \"0952 Prensa\", \"indice\": 91.493, \"variacion_mensual\": -0.1, \"variacion_anual\": 1.1, \"variacion_en_lo_que_va_de_ano\": 0.6}, {\"periodo\": \"2018-04-01T00:00:00\", \"clases\": \"0952 Prensa\", \"indice\": 91.543, \"variacion_mensual\": 0.6, \"variacion_anual\": 1.3, \"variacion_en_lo_que_va_de_ano\": 0.7}, {\"periodo\": \"2018-03-01T00:00:00\", \"clases\": \"0952 Prensa\", \"indice\": 90.996, \"variacion_mensual\": -0.2, \"variacion_anual\": 0.7, \"variacion_en_lo_que_va_de_ano\": 0.1}, {\"periodo\": \"2018-02-01T00:00:00\", \"clases\": \"0952 Prensa\", \"indice\": 91.197, \"variacion_mensual\": -0.3, \"variacion_anual\": 1.4, \"variacion_en_lo_que_va_de_ano\": 0.3}, {\"periodo\": \"2018-01-01T00:00:00\", \"clases\": \"0952 Prensa\", \"indice\": 91.461, \"variacion_mensual\": 0.6, \"variacion_anual\": 0.5, \"variacion_en_lo_que_va_de_ano\": 0.6}, {\"periodo\": \"2017-12-01T00:00:00\", \"clases\": \"0952 Prensa\", \"indice\": 90.91, \"variacion_mensual\": -0.5, \"variacion_anual\": -0.5, \"variacion_en_lo_que_va_de_ano\": -0.5}, {\"periodo\": \"2017-11-01T00:00:00\", \"clases\": \"0952 Prensa\", \"indice\": 91.384, \"variacion_mensual\": 0.7, \"variacion_anual\": 1.2, \"variacion_en_lo_que_va_de_ano\": 0.0}, {\"periodo\": \"2017-10-01T00:00:00\", \"clases\": \"0952 Prensa\", \"indice\": 90.742, \"variacion_mensual\": -1.0, \"variacion_anual\": 1.6, \"variacion_en_lo_que_va_de_ano\": -0.7}, {\"periodo\": \"2017-09-01T00:00:00\", \"clases\": \"0952 Prensa\", \"indice\": 91.655, \"variacion_mensual\": 0.1, \"variacion_anual\": 3.0, \"variacion_en_lo_que_va_de_ano\": 0.3}, {\"periodo\": \"2017-08-01T00:00:00\", \"clases\": \"0952 Prensa\", \"indice\": 91.598, \"variacion_mensual\": 1.0, \"variacion_anual\": 3.0, \"variacion_en_lo_que_va_de_ano\": 0.3}, {\"periodo\": \"2017-07-01T00:00:00\", \"clases\": \"0952 Prensa\", \"indice\": 90.662, \"variacion_mensual\": 0.2, \"variacion_anual\": 1.8, \"variacion_en_lo_que_va_de_ano\": -0.7}, {\"periodo\": \"2017-06-01T00:00:00\", \"clases\": \"0952 Prensa\", \"indice\": 90.504, \"variacion_mensual\": 0.0, \"variacion_anual\": 2.0, \"variacion_en_lo_que_va_de_ano\": -0.9}, {\"periodo\": \"2017-05-01T00:00:00\", \"clases\": \"0952 Prensa\", \"indice\": 90.474, \"variacion_mensual\": 0.1, \"variacion_anual\": 1.9, \"variacion_en_lo_que_va_de_ano\": -1.0}, {\"periodo\": \"2017-04-01T00:00:00\", \"clases\": \"0952 Prensa\", \"indice\": 90.383, \"variacion_mensual\": 0.0, \"variacion_anual\": 1.9, \"variacion_en_lo_que_va_de_ano\": -1.1}, {\"periodo\": \"2017-03-01T00:00:00\", \"clases\": \"0952 Prensa\", \"indice\": 90.379, \"variacion_mensual\": 0.5, \"variacion_anual\": 2.5, \"variacion_en_lo_que_va_de_ano\": -1.1}, {\"periodo\": \"2017-02-01T00:00:00\", \"clases\": \"0952 Prensa\", \"indice\": 89.931, \"variacion_mensual\": -1.2, \"variacion_anual\": 1.9, \"variacion_en_lo_que_va_de_ano\": -1.5}, {\"periodo\": \"2017-01-01T00:00:00\", \"clases\": \"0952 Prensa\", \"indice\": 90.985, \"variacion_mensual\": -0.4, \"variacion_anual\": 3.3, \"variacion_en_lo_que_va_de_ano\": -0.4}, {\"periodo\": \"2016-12-01T00:00:00\", \"clases\": \"0952 Prensa\", \"indice\": 91.344, \"variacion_mensual\": 1.2, \"variacion_anual\": 4.8, \"variacion_en_lo_que_va_de_ano\": 4.8}, {\"periodo\": \"2016-11-01T00:00:00\", \"clases\": \"0952 Prensa\", \"indice\": 90.282, \"variacion_mensual\": 1.1, \"variacion_anual\": 2.6, \"variacion_en_lo_que_va_de_ano\": 3.6}, {\"periodo\": \"2016-10-01T00:00:00\", \"clases\": \"0952 Prensa\", \"indice\": 89.329, \"variacion_mensual\": 0.4, \"variacion_anual\": 2.0, \"variacion_en_lo_que_va_de_ano\": 2.5}, {\"periodo\": \"2016-09-01T00:00:00\", \"clases\": \"0952 Prensa\", \"indice\": 88.963, \"variacion_mensual\": 0.0, \"variacion_anual\": 1.8, \"variacion_en_lo_que_va_de_ano\": 2.1}, {\"periodo\": \"2016-08-01T00:00:00\", \"clases\": \"0952 Prensa\", \"indice\": 88.941, \"variacion_mensual\": -0.1, \"variacion_anual\": 0.8, \"variacion_en_lo_que_va_de_ano\": 2.1}, {\"periodo\": \"2016-07-01T00:00:00\", \"clases\": \"0952 Prensa\", \"indice\": 89.057, \"variacion_mensual\": 0.4, \"variacion_anual\": 1.0, \"variacion_en_lo_que_va_de_ano\": 2.2}, {\"periodo\": \"2016-06-01T00:00:00\", \"clases\": \"0952 Prensa\", \"indice\": 88.747, \"variacion_mensual\": -0.1, \"variacion_anual\": 1.0, \"variacion_en_lo_que_va_de_ano\": 1.8}, {\"periodo\": \"2016-05-01T00:00:00\", \"clases\": \"0952 Prensa\", \"indice\": 88.809, \"variacion_mensual\": 0.1, \"variacion_anual\": 1.9, \"variacion_en_lo_que_va_de_ano\": 1.9}, {\"periodo\": \"2016-04-01T00:00:00\", \"clases\": \"0952 Prensa\", \"indice\": 88.717, \"variacion_mensual\": 0.6, \"variacion_anual\": 1.3, \"variacion_en_lo_que_va_de_ano\": 1.8}, {\"periodo\": \"2016-03-01T00:00:00\", \"clases\": \"0952 Prensa\", \"indice\": 88.166, \"variacion_mensual\": -0.1, \"variacion_anual\": 0.7, \"variacion_en_lo_que_va_de_ano\": 1.2}, {\"periodo\": \"2016-02-01T00:00:00\", \"clases\": \"0952 Prensa\", \"indice\": 88.235, \"variacion_mensual\": 0.2, \"variacion_anual\": 2.0, \"variacion_en_lo_que_va_de_ano\": 1.3}, {\"periodo\": \"2016-01-01T00:00:00\", \"clases\": \"0952 Prensa\", \"indice\": 88.045, \"variacion_mensual\": 1.0, \"variacion_anual\": 1.7, \"variacion_en_lo_que_va_de_ano\": 1.0}, {\"periodo\": \"2015-12-01T00:00:00\", \"clases\": \"0952 Prensa\", \"indice\": 87.143, \"variacion_mensual\": -1.0, \"variacion_anual\": 0.1, \"variacion_en_lo_que_va_de_ano\": 0.1}, {\"periodo\": \"2015-11-01T00:00:00\", \"clases\": \"0952 Prensa\", \"indice\": 87.995, \"variacion_mensual\": 0.5, \"variacion_anual\": 2.6, \"variacion_en_lo_que_va_de_ano\": 1.1}, {\"periodo\": \"2015-10-01T00:00:00\", \"clases\": \"0952 Prensa\", \"indice\": 87.547, \"variacion_mensual\": 0.2, \"variacion_anual\": 2.1, \"variacion_en_lo_que_va_de_ano\": 0.5}, {\"periodo\": \"2015-09-01T00:00:00\", \"clases\": \"0952 Prensa\", \"indice\": 87.364, \"variacion_mensual\": -1.0, \"variacion_anual\": 2.0, \"variacion_en_lo_que_va_de_ano\": 0.3}, {\"periodo\": \"2015-08-01T00:00:00\", \"clases\": \"0952 Prensa\", \"indice\": 88.25, \"variacion_mensual\": 0.1, \"variacion_anual\": 2.0, \"variacion_en_lo_que_va_de_ano\": 1.4}, {\"periodo\": \"2015-07-01T00:00:00\", \"clases\": \"0952 Prensa\", \"indice\": 88.141, \"variacion_mensual\": 0.3, \"variacion_anual\": 2.4, \"variacion_en_lo_que_va_de_ano\": 1.2}, {\"periodo\": \"2015-06-01T00:00:00\", \"clases\": \"0952 Prensa\", \"indice\": 87.905, \"variacion_mensual\": 0.9, \"variacion_anual\": 2.2, \"variacion_en_lo_que_va_de_ano\": 1.0}, {\"periodo\": \"2015-05-01T00:00:00\", \"clases\": \"0952 Prensa\", \"indice\": 87.116, \"variacion_mensual\": -0.5, \"variacion_anual\": 1.7, \"variacion_en_lo_que_va_de_ano\": 0.1}, {\"periodo\": \"2015-04-01T00:00:00\", \"clases\": \"0952 Prensa\", \"indice\": 87.538, \"variacion_mensual\": 0.0, \"variacion_anual\": 2.2, \"variacion_en_lo_que_va_de_ano\": 0.5}, {\"periodo\": \"2015-03-01T00:00:00\", \"clases\": \"0952 Prensa\", \"indice\": 87.514, \"variacion_mensual\": 1.2, \"variacion_anual\": 2.3, \"variacion_en_lo_que_va_de_ano\": 0.5}, {\"periodo\": \"2015-02-01T00:00:00\", \"clases\": \"0952 Prensa\", \"indice\": 86.516, \"variacion_mensual\": -0.1, \"variacion_anual\": 1.3, \"variacion_en_lo_que_va_de_ano\": -0.6}, {\"periodo\": \"2015-01-01T00:00:00\", \"clases\": \"0952 Prensa\", \"indice\": 86.606, \"variacion_mensual\": -0.5, \"variacion_anual\": 1.4, \"variacion_en_lo_que_va_de_ano\": -0.5}, {\"periodo\": \"2014-12-01T00:00:00\", \"clases\": \"0952 Prensa\", \"indice\": 87.072, \"variacion_mensual\": 1.6, \"variacion_anual\": 1.5, \"variacion_en_lo_que_va_de_ano\": 1.5}, {\"periodo\": \"2014-11-01T00:00:00\", \"clases\": \"0952 Prensa\", \"indice\": 85.726, \"variacion_mensual\": 0.0, \"variacion_anual\": 1.0, \"variacion_en_lo_que_va_de_ano\": -0.1}, {\"periodo\": \"2014-10-01T00:00:00\", \"clases\": \"0952 Prensa\", \"indice\": 85.726, \"variacion_mensual\": 0.1, \"variacion_anual\": 1.5, \"variacion_en_lo_que_va_de_ano\": -0.1}, {\"periodo\": \"2014-09-01T00:00:00\", \"clases\": \"0952 Prensa\", \"indice\": 85.63, \"variacion_mensual\": -1.0, \"variacion_anual\": 1.6, \"variacion_en_lo_que_va_de_ano\": -0.2}, {\"periodo\": \"2014-08-01T00:00:00\", \"clases\": \"0952 Prensa\", \"indice\": 86.534, \"variacion_mensual\": 0.6, \"variacion_anual\": 1.7, \"variacion_en_lo_que_va_de_ano\": 0.9}, {\"periodo\": \"2014-07-01T00:00:00\", \"clases\": \"0952 Prensa\", \"indice\": 86.042, \"variacion_mensual\": 0.0, \"variacion_anual\": 1.1, \"variacion_en_lo_que_va_de_ano\": 0.3}, {\"periodo\": \"2014-06-01T00:00:00\", \"clases\": \"0952 Prensa\", \"indice\": 86.03, \"variacion_mensual\": 0.5, \"variacion_anual\": 1.5, \"variacion_en_lo_que_va_de_ano\": 0.3}, {\"periodo\": \"2014-05-01T00:00:00\", \"clases\": \"0952 Prensa\", \"indice\": 85.635, \"variacion_mensual\": 0.0, \"variacion_anual\": 1.1, \"variacion_en_lo_que_va_de_ano\": -0.2}, {\"periodo\": \"2014-04-01T00:00:00\", \"clases\": \"0952 Prensa\", \"indice\": 85.627, \"variacion_mensual\": 0.1, \"variacion_anual\": 0.9, \"variacion_en_lo_que_va_de_ano\": -0.2}, {\"periodo\": \"2014-03-01T00:00:00\", \"clases\": \"0952 Prensa\", \"indice\": 85.525, \"variacion_mensual\": 0.1, \"variacion_anual\": 0.8, \"variacion_en_lo_que_va_de_ano\": -0.3}, {\"periodo\": \"2014-02-01T00:00:00\", \"clases\": \"0952 Prensa\", \"indice\": 85.409, \"variacion_mensual\": 0.0, \"variacion_anual\": 1.7, \"variacion_en_lo_que_va_de_ano\": -0.4}, {\"periodo\": \"2014-01-01T00:00:00\", \"clases\": \"0952 Prensa\", \"indice\": 85.403, \"variacion_mensual\": -0.4, \"variacion_anual\": 1.2, \"variacion_en_lo_que_va_de_ano\": -0.4}, {\"periodo\": \"2013-12-01T00:00:00\", \"clases\": \"0952 Prensa\", \"indice\": 85.787, \"variacion_mensual\": 1.0, \"variacion_anual\": 0.8, \"variacion_en_lo_que_va_de_ano\": 0.8}, {\"periodo\": \"2013-11-01T00:00:00\", \"clases\": \"0952 Prensa\", \"indice\": 84.919, \"variacion_mensual\": 0.5, \"variacion_anual\": 1.5, \"variacion_en_lo_que_va_de_ano\": -0.2}, {\"periodo\": \"2013-10-01T00:00:00\", \"clases\": \"0952 Prensa\", \"indice\": 84.461, \"variacion_mensual\": 0.2, \"variacion_anual\": 1.3, \"variacion_en_lo_que_va_de_ano\": -0.7}, {\"periodo\": \"2013-09-01T00:00:00\", \"clases\": \"0952 Prensa\", \"indice\": 84.318, \"variacion_mensual\": -0.9, \"variacion_anual\": 1.3, \"variacion_en_lo_que_va_de_ano\": -0.9}, {\"periodo\": \"2013-08-01T00:00:00\", \"clases\": \"0952 Prensa\", \"indice\": 85.062, \"variacion_mensual\": -0.1, \"variacion_anual\": 2.5, \"variacion_en_lo_que_va_de_ano\": 0.0}, {\"periodo\": \"2013-07-01T00:00:00\", \"clases\": \"0952 Prensa\", \"indice\": 85.139, \"variacion_mensual\": 0.5, \"variacion_anual\": 0.4, \"variacion_en_lo_que_va_de_ano\": 0.1}, {\"periodo\": \"2013-06-01T00:00:00\", \"clases\": \"0952 Prensa\", \"indice\": 84.717, \"variacion_mensual\": 0.0, \"variacion_anual\": 2.4, \"variacion_en_lo_que_va_de_ano\": -0.4}, {\"periodo\": \"2013-05-01T00:00:00\", \"clases\": \"0952 Prensa\", \"indice\": 84.675, \"variacion_mensual\": -0.2, \"variacion_anual\": 2.5, \"variacion_en_lo_que_va_de_ano\": -0.5}, {\"periodo\": \"2013-04-01T00:00:00\", \"clases\": \"0952 Prensa\", \"indice\": 84.859, \"variacion_mensual\": 0.0, \"variacion_anual\": 2.6, \"variacion_en_lo_que_va_de_ano\": -0.3}, {\"periodo\": \"2013-03-01T00:00:00\", \"clases\": \"0952 Prensa\", \"indice\": 84.82, \"variacion_mensual\": 1.0, \"variacion_anual\": 2.5, \"variacion_en_lo_que_va_de_ano\": -0.3}, {\"periodo\": \"2013-02-01T00:00:00\", \"clases\": \"0952 Prensa\", \"indice\": 83.983, \"variacion_mensual\": -0.5, \"variacion_anual\": 1.9, \"variacion_en_lo_que_va_de_ano\": -1.3}, {\"periodo\": \"2013-01-01T00:00:00\", \"clases\": \"0952 Prensa\", \"indice\": 84.394, \"variacion_mensual\": -0.8, \"variacion_anual\": 2.0, \"variacion_en_lo_que_va_de_ano\": -0.8}, {\"periodo\": \"2012-12-01T00:00:00\", \"clases\": \"0952 Prensa\", \"indice\": 85.081, \"variacion_mensual\": 1.7, \"variacion_anual\": 2.2, \"variacion_en_lo_que_va_de_ano\": 2.2}, {\"periodo\": \"2012-11-01T00:00:00\", \"clases\": \"0952 Prensa\", \"indice\": 83.649, \"variacion_mensual\": 0.3, \"variacion_anual\": 2.2, \"variacion_en_lo_que_va_de_ano\": 0.4}, {\"periodo\": \"2012-10-01T00:00:00\", \"clases\": \"0952 Prensa\", \"indice\": 83.407, \"variacion_mensual\": 0.2, \"variacion_anual\": 2.5, \"variacion_en_lo_que_va_de_ano\": 0.2}, {\"periodo\": \"2012-09-01T00:00:00\", \"clases\": \"0952 Prensa\", \"indice\": 83.254, \"variacion_mensual\": 0.4, \"variacion_anual\": 2.4, \"variacion_en_lo_que_va_de_ano\": 0.0}, {\"periodo\": \"2012-08-01T00:00:00\", \"clases\": \"0952 Prensa\", \"indice\": 82.948, \"variacion_mensual\": -2.2, \"variacion_anual\": 0.9, \"variacion_en_lo_que_va_de_ano\": -0.4}, {\"periodo\": \"2012-07-01T00:00:00\", \"clases\": \"0952 Prensa\", \"indice\": 84.783, \"variacion_mensual\": 2.4, \"variacion_anual\": 2.9, \"variacion_en_lo_que_va_de_ano\": 1.8}, {\"periodo\": \"2012-06-01T00:00:00\", \"clases\": \"0952 Prensa\", \"indice\": 82.761, \"variacion_mensual\": 0.2, \"variacion_anual\": 1.7, \"variacion_en_lo_que_va_de_ano\": -0.6}, {\"periodo\": \"2012-05-01T00:00:00\", \"clases\": \"0952 Prensa\", \"indice\": 82.597, \"variacion_mensual\": -0.1, \"variacion_anual\": 1.5, \"variacion_en_lo_que_va_de_ano\": -0.8}, {\"periodo\": \"2012-04-01T00:00:00\", \"clases\": \"0952 Prensa\", \"indice\": 82.697, \"variacion_mensual\": 0.0, \"variacion_anual\": 2.1, \"variacion_en_lo_que_va_de_ano\": -0.7}, {\"periodo\": \"2012-03-01T00:00:00\", \"clases\": \"0952 Prensa\", \"indice\": 82.736, \"variacion_mensual\": 0.4, \"variacion_anual\": 2.6, \"variacion_en_lo_que_va_de_ano\": -0.6}, {\"periodo\": \"2012-02-01T00:00:00\", \"clases\": \"0952 Prensa\", \"indice\": 82.43, \"variacion_mensual\": -0.3, \"variacion_anual\": 2.4, \"variacion_en_lo_que_va_de_ano\": -1.0}, {\"periodo\": \"2012-01-01T00:00:00\", \"clases\": \"0952 Prensa\", \"indice\": 82.7, \"variacion_mensual\": -0.7, \"variacion_anual\": 2.8, \"variacion_en_lo_que_va_de_ano\": -0.7}, {\"periodo\": \"2011-12-01T00:00:00\", \"clases\": \"0952 Prensa\", \"indice\": 83.276, \"variacion_mensual\": 1.7, \"variacion_anual\": 4.0, \"variacion_en_lo_que_va_de_ano\": 4.0}, {\"periodo\": \"2011-11-01T00:00:00\", \"clases\": \"0952 Prensa\", \"indice\": 81.884, \"variacion_mensual\": 0.6, \"variacion_anual\": 2.4, \"variacion_en_lo_que_va_de_ano\": 2.3}, {\"periodo\": \"2011-10-01T00:00:00\", \"clases\": \"0952 Prensa\", \"indice\": 81.377, \"variacion_mensual\": 0.1, \"variacion_anual\": 1.9, \"variacion_en_lo_que_va_de_ano\": 1.6}, {\"periodo\": \"2011-09-01T00:00:00\", \"clases\": \"0952 Prensa\", \"indice\": 81.281, \"variacion_mensual\": -1.1, \"variacion_anual\": 1.7, \"variacion_en_lo_que_va_de_ano\": 1.5}, {\"periodo\": \"2011-08-01T00:00:00\", \"clases\": \"0952 Prensa\", \"indice\": 82.183, \"variacion_mensual\": -0.2, \"variacion_anual\": 3.1, \"variacion_en_lo_que_va_de_ano\": 2.6}, {\"periodo\": \"2011-07-01T00:00:00\", \"clases\": \"0952 Prensa\", \"indice\": 82.371, \"variacion_mensual\": 1.2, \"variacion_anual\": 3.5, \"variacion_en_lo_que_va_de_ano\": 2.9}, {\"periodo\": \"2011-06-01T00:00:00\", \"clases\": \"0952 Prensa\", \"indice\": 81.416, \"variacion_mensual\": 0.1, \"variacion_anual\": 2.4, \"variacion_en_lo_que_va_de_ano\": 1.7}, {\"periodo\": \"2011-05-01T00:00:00\", \"clases\": \"0952 Prensa\", \"indice\": 81.34, \"variacion_mensual\": 0.4, \"variacion_anual\": 2.3, \"variacion_en_lo_que_va_de_ano\": 1.6}, {\"periodo\": \"2011-04-01T00:00:00\", \"clases\": \"0952 Prensa\", \"indice\": 80.984, \"variacion_mensual\": 0.5, \"variacion_anual\": 2.3, \"variacion_en_lo_que_va_de_ano\": 1.2}, {\"periodo\": \"2011-03-01T00:00:00\", \"clases\": \"0952 Prensa\", \"indice\": 80.619, \"variacion_mensual\": 0.2, \"variacion_anual\": 2.0, \"variacion_en_lo_que_va_de_ano\": 0.7}, {\"periodo\": \"2011-02-01T00:00:00\", \"clases\": \"0952 Prensa\", \"indice\": 80.479, \"variacion_mensual\": 0.0, \"variacion_anual\": 2.3, \"variacion_en_lo_que_va_de_ano\": 0.5}, {\"periodo\": \"2011-01-01T00:00:00\", \"clases\": \"0952 Prensa\", \"indice\": 80.484, \"variacion_mensual\": 0.5, \"variacion_anual\": 2.2, \"variacion_en_lo_que_va_de_ano\": 0.5}, {\"periodo\": \"2010-12-01T00:00:00\", \"clases\": \"0952 Prensa\", \"indice\": 80.064, \"variacion_mensual\": 0.1, \"variacion_anual\": 2.8, \"variacion_en_lo_que_va_de_ano\": 2.8}, {\"periodo\": \"2010-11-01T00:00:00\", \"clases\": \"0952 Prensa\", \"indice\": 79.962, \"variacion_mensual\": 0.1, \"variacion_anual\": 2.9, \"variacion_en_lo_que_va_de_ano\": 2.7}, {\"periodo\": \"2010-10-01T00:00:00\", \"clases\": \"0952 Prensa\", \"indice\": 79.882, \"variacion_mensual\": -0.1, \"variacion_anual\": 3.0, \"variacion_en_lo_que_va_de_ano\": 2.6}, {\"periodo\": \"2010-09-01T00:00:00\", \"clases\": \"0952 Prensa\", \"indice\": 79.931, \"variacion_mensual\": 0.3, \"variacion_anual\": 3.1, \"variacion_en_lo_que_va_de_ano\": 2.6}, {\"periodo\": \"2010-08-01T00:00:00\", \"clases\": \"0952 Prensa\", \"indice\": 79.706, \"variacion_mensual\": 0.2, \"variacion_anual\": 2.6, \"variacion_en_lo_que_va_de_ano\": 2.4}, {\"periodo\": \"2010-07-01T00:00:00\", \"clases\": \"0952 Prensa\", \"indice\": 79.566, \"variacion_mensual\": 0.0, \"variacion_anual\": 2.1, \"variacion_en_lo_que_va_de_ano\": 2.2}, {\"periodo\": \"2010-06-01T00:00:00\", \"clases\": \"0952 Prensa\", \"indice\": 79.534, \"variacion_mensual\": 0.1, \"variacion_anual\": 2.2, \"variacion_en_lo_que_va_de_ano\": 2.1}, {\"periodo\": \"2010-05-01T00:00:00\", \"clases\": \"0952 Prensa\", \"indice\": 79.478, \"variacion_mensual\": 0.4, \"variacion_anual\": 2.2, \"variacion_en_lo_que_va_de_ano\": 2.1}, {\"periodo\": \"2010-04-01T00:00:00\", \"clases\": \"0952 Prensa\", \"indice\": 79.181, \"variacion_mensual\": 0.2, \"variacion_anual\": 2.0, \"variacion_en_lo_que_va_de_ano\": 1.7}, {\"periodo\": \"2010-03-01T00:00:00\", \"clases\": \"0952 Prensa\", \"indice\": 79.05, \"variacion_mensual\": 0.5, \"variacion_anual\": 2.5, \"variacion_en_lo_que_va_de_ano\": 1.5}, {\"periodo\": \"2010-02-01T00:00:00\", \"clases\": \"0952 Prensa\", \"indice\": 78.658, \"variacion_mensual\": -0.1, \"variacion_anual\": 2.4, \"variacion_en_lo_que_va_de_ano\": 1.0}, {\"periodo\": \"2010-01-01T00:00:00\", \"clases\": \"0952 Prensa\", \"indice\": 78.737, \"variacion_mensual\": 1.1, \"variacion_anual\": 2.7, \"variacion_en_lo_que_va_de_ano\": 1.1}, {\"periodo\": \"2009-12-01T00:00:00\", \"clases\": \"0952 Prensa\", \"indice\": 77.876, \"variacion_mensual\": 0.2, \"variacion_anual\": 3.3, \"variacion_en_lo_que_va_de_ano\": 3.3}, {\"periodo\": \"2009-11-01T00:00:00\", \"clases\": \"0952 Prensa\", \"indice\": 77.709, \"variacion_mensual\": 0.2, \"variacion_anual\": 3.3, \"variacion_en_lo_que_va_de_ano\": 3.1}, {\"periodo\": \"2009-10-01T00:00:00\", \"clases\": \"0952 Prensa\", \"indice\": 77.518, \"variacion_mensual\": 0.0, \"variacion_anual\": 2.9, \"variacion_en_lo_que_va_de_ano\": 2.8}, {\"periodo\": \"2009-09-01T00:00:00\", \"clases\": \"0952 Prensa\", \"indice\": 77.512, \"variacion_mensual\": -0.2, \"variacion_anual\": 3.1, \"variacion_en_lo_que_va_de_ano\": 2.8}, {\"periodo\": \"2009-08-01T00:00:00\", \"clases\": \"0952 Prensa\", \"indice\": 77.662, \"variacion_mensual\": -0.3, \"variacion_anual\": 3.1, \"variacion_en_lo_que_va_de_ano\": 3.0}, {\"periodo\": \"2009-07-01T00:00:00\", \"clases\": \"0952 Prensa\", \"indice\": 77.92, \"variacion_mensual\": 0.1, \"variacion_anual\": 3.3, \"variacion_en_lo_que_va_de_ano\": 3.4}, {\"periodo\": \"2009-06-01T00:00:00\", \"clases\": \"0952 Prensa\", \"indice\": 77.811, \"variacion_mensual\": 0.0, \"variacion_anual\": 4.5, \"variacion_en_lo_que_va_de_ano\": 3.2}, {\"periodo\": \"2009-05-01T00:00:00\", \"clases\": \"0952 Prensa\", \"indice\": 77.788, \"variacion_mensual\": 0.2, \"variacion_anual\": 3.9, \"variacion_en_lo_que_va_de_ano\": 3.2}, {\"periodo\": \"2009-04-01T00:00:00\", \"clases\": \"0952 Prensa\", \"indice\": 77.598, \"variacion_mensual\": 0.6, \"variacion_anual\": 4.5, \"variacion_en_lo_que_va_de_ano\": 2.9}, {\"periodo\": \"2009-03-01T00:00:00\", \"clases\": \"0952 Prensa\", \"indice\": 77.131, \"variacion_mensual\": 0.5, \"variacion_anual\": 4.0, \"variacion_en_lo_que_va_de_ano\": 2.3}, {\"periodo\": \"2009-02-01T00:00:00\", \"clases\": \"0952 Prensa\", \"indice\": 76.784, \"variacion_mensual\": 0.1, \"variacion_anual\": 3.7, \"variacion_en_lo_que_va_de_ano\": 1.9}, {\"periodo\": \"2009-01-01T00:00:00\", \"clases\": \"0952 Prensa\", \"indice\": 76.702, \"variacion_mensual\": 1.8, \"variacion_anual\": 3.8, \"variacion_en_lo_que_va_de_ano\": 1.8}, {\"periodo\": \"2008-12-01T00:00:00\", \"clases\": \"0952 Prensa\", \"indice\": 75.374, \"variacion_mensual\": 0.2, \"variacion_anual\": 2.7, \"variacion_en_lo_que_va_de_ano\": 2.7}, {\"periodo\": \"2008-11-01T00:00:00\", \"clases\": \"0952 Prensa\", \"indice\": 75.254, \"variacion_mensual\": -0.1, \"variacion_anual\": 2.3, \"variacion_en_lo_que_va_de_ano\": 2.5}, {\"periodo\": \"2008-10-01T00:00:00\", \"clases\": \"0952 Prensa\", \"indice\": 75.307, \"variacion_mensual\": 0.2, \"variacion_anual\": 3.2, \"variacion_en_lo_que_va_de_ano\": 2.6}, {\"periodo\": \"2008-09-01T00:00:00\", \"clases\": \"0952 Prensa\", \"indice\": 75.178, \"variacion_mensual\": -0.2, \"variacion_anual\": 2.6, \"variacion_en_lo_que_va_de_ano\": 2.4}, {\"periodo\": \"2008-08-01T00:00:00\", \"clases\": \"0952 Prensa\", \"indice\": 75.337, \"variacion_mensual\": -0.1, \"variacion_anual\": 3.2, \"variacion_en_lo_que_va_de_ano\": 2.6}, {\"periodo\": \"2008-07-01T00:00:00\", \"clases\": \"0952 Prensa\", \"indice\": 75.399, \"variacion_mensual\": 1.3, \"variacion_anual\": 3.0, \"variacion_en_lo_que_va_de_ano\": 2.7}, {\"periodo\": \"2008-06-01T00:00:00\", \"clases\": \"0952 Prensa\", \"indice\": 74.463, \"variacion_mensual\": -0.5, \"variacion_anual\": 1.8, \"variacion_en_lo_que_va_de_ano\": 1.5}, {\"periodo\": \"2008-05-01T00:00:00\", \"clases\": \"0952 Prensa\", \"indice\": 74.865, \"variacion_mensual\": 0.8, \"variacion_anual\": 2.3, \"variacion_en_lo_que_va_de_ano\": 2.0}, {\"periodo\": \"2008-04-01T00:00:00\", \"clases\": \"0952 Prensa\", \"indice\": 74.28, \"variacion_mensual\": 0.1, \"variacion_anual\": 1.5, \"variacion_en_lo_que_va_de_ano\": 1.2}, {\"periodo\": \"2008-03-01T00:00:00\", \"clases\": \"0952 Prensa\", \"indice\": 74.17, \"variacion_mensual\": 0.2, \"variacion_anual\": 1.3, \"variacion_en_lo_que_va_de_ano\": 1.1}, {\"periodo\": \"2008-02-01T00:00:00\", \"clases\": \"0952 Prensa\", \"indice\": 74.017, \"variacion_mensual\": 0.2, \"variacion_anual\": 1.0, \"variacion_en_lo_que_va_de_ano\": 0.8}, {\"periodo\": \"2008-01-01T00:00:00\", \"clases\": \"0952 Prensa\", \"indice\": 73.879, \"variacion_mensual\": 0.7, \"variacion_anual\": 1.4, \"variacion_en_lo_que_va_de_ano\": 0.7}, {\"periodo\": \"2007-12-01T00:00:00\", \"clases\": \"0952 Prensa\", \"indice\": 73.394, \"variacion_mensual\": -0.2, \"variacion_anual\": 1.1, \"variacion_en_lo_que_va_de_ano\": 1.1}, {\"periodo\": \"2007-11-01T00:00:00\", \"clases\": \"0952 Prensa\", \"indice\": 73.547, \"variacion_mensual\": 0.7, \"variacion_anual\": 2.2, \"variacion_en_lo_que_va_de_ano\": 1.3}, {\"periodo\": \"2007-10-01T00:00:00\", \"clases\": \"0952 Prensa\", \"indice\": 72.999, \"variacion_mensual\": -0.4, \"variacion_anual\": 1.3, \"variacion_en_lo_que_va_de_ano\": 0.5}, {\"periodo\": \"2007-09-01T00:00:00\", \"clases\": \"0952 Prensa\", \"indice\": 73.275, \"variacion_mensual\": 0.4, \"variacion_anual\": 1.5, \"variacion_en_lo_que_va_de_ano\": 0.9}, {\"periodo\": \"2007-08-01T00:00:00\", \"clases\": \"0952 Prensa\", \"indice\": 73.014, \"variacion_mensual\": -0.2, \"variacion_anual\": 0.9, \"variacion_en_lo_que_va_de_ano\": 0.5}, {\"periodo\": \"2007-07-01T00:00:00\", \"clases\": \"0952 Prensa\", \"indice\": 73.192, \"variacion_mensual\": 0.0, \"variacion_anual\": 1.2, \"variacion_en_lo_que_va_de_ano\": 0.8}, {\"periodo\": \"2007-06-01T00:00:00\", \"clases\": \"0952 Prensa\", \"indice\": 73.182, \"variacion_mensual\": 0.0, \"variacion_anual\": 1.0, \"variacion_en_lo_que_va_de_ano\": 0.8}, {\"periodo\": \"2007-05-01T00:00:00\", \"clases\": \"0952 Prensa\", \"indice\": 73.214, \"variacion_mensual\": 0.1, \"variacion_anual\": 1.4, \"variacion_en_lo_que_va_de_ano\": 0.8}, {\"periodo\": \"2007-04-01T00:00:00\", \"clases\": \"0952 Prensa\", \"indice\": 73.156, \"variacion_mensual\": -0.1, \"variacion_anual\": 1.6, \"variacion_en_lo_que_va_de_ano\": 0.7}, {\"periodo\": \"2007-03-01T00:00:00\", \"clases\": \"0952 Prensa\", \"indice\": 73.201, \"variacion_mensual\": -0.1, \"variacion_anual\": 1.4, \"variacion_en_lo_que_va_de_ano\": 0.8}, {\"periodo\": \"2007-02-01T00:00:00\", \"clases\": \"0952 Prensa\", \"indice\": 73.302, \"variacion_mensual\": 0.6, \"variacion_anual\": 1.7, \"variacion_en_lo_que_va_de_ano\": 0.9}, {\"periodo\": \"2007-01-01T00:00:00\", \"clases\": \"0952 Prensa\", \"indice\": 72.84, \"variacion_mensual\": 0.3, \"variacion_anual\": 1.0, \"variacion_en_lo_que_va_de_ano\": 0.3}, {\"periodo\": \"2006-12-01T00:00:00\", \"clases\": \"0952 Prensa\", \"indice\": 72.63, \"variacion_mensual\": 0.9, \"variacion_anual\": 1.3, \"variacion_en_lo_que_va_de_ano\": 1.3}, {\"periodo\": \"2006-11-01T00:00:00\", \"clases\": \"0952 Prensa\", \"indice\": 71.976, \"variacion_mensual\": -0.1, \"variacion_anual\": 0.7, \"variacion_en_lo_que_va_de_ano\": 0.4}, {\"periodo\": \"2006-10-01T00:00:00\", \"clases\": \"0952 Prensa\", \"indice\": 72.03, \"variacion_mensual\": -0.2, \"variacion_anual\": 0.7, \"variacion_en_lo_que_va_de_ano\": 0.5}, {\"periodo\": \"2006-09-01T00:00:00\", \"clases\": \"0952 Prensa\", \"indice\": 72.169, \"variacion_mensual\": -0.2, \"variacion_anual\": 0.6, \"variacion_en_lo_que_va_de_ano\": 0.6}, {\"periodo\": \"2006-08-01T00:00:00\", \"clases\": \"0952 Prensa\", \"indice\": 72.332, \"variacion_mensual\": 0.0, \"variacion_anual\": 1.2, \"variacion_en_lo_que_va_de_ano\": 0.9}, {\"periodo\": \"2006-07-01T00:00:00\", \"clases\": \"0952 Prensa\", \"indice\": 72.332, \"variacion_mensual\": -0.2, \"variacion_anual\": 0.5, \"variacion_en_lo_que_va_de_ano\": 0.9}, {\"periodo\": \"2006-06-01T00:00:00\", \"clases\": \"0952 Prensa\", \"indice\": 72.454, \"variacion_mensual\": 0.4, \"variacion_anual\": 1.1, \"variacion_en_lo_que_va_de_ano\": 1.0}, {\"periodo\": \"2006-05-01T00:00:00\", \"clases\": \"0952 Prensa\", \"indice\": 72.173, \"variacion_mensual\": 0.2, \"variacion_anual\": 1.4, \"variacion_en_lo_que_va_de_ano\": 0.7}, {\"periodo\": \"2006-04-01T00:00:00\", \"clases\": \"0952 Prensa\", \"indice\": 72.006, \"variacion_mensual\": -0.2, \"variacion_anual\": 1.3, \"variacion_en_lo_que_va_de_ano\": 0.4}, {\"periodo\": \"2006-03-01T00:00:00\", \"clases\": \"0952 Prensa\", \"indice\": 72.182, \"variacion_mensual\": 0.2, \"variacion_anual\": 1.9, \"variacion_en_lo_que_va_de_ano\": 0.7}, {\"periodo\": \"2006-02-01T00:00:00\", \"clases\": \"0952 Prensa\", \"indice\": 72.062, \"variacion_mensual\": -0.1, \"variacion_anual\": 1.8, \"variacion_en_lo_que_va_de_ano\": 0.5}, {\"periodo\": \"2006-01-01T00:00:00\", \"clases\": \"0952 Prensa\", \"indice\": 72.122, \"variacion_mensual\": 0.6, \"variacion_anual\": 2.1, \"variacion_en_lo_que_va_de_ano\": 0.6}, {\"periodo\": \"2005-12-01T00:00:00\", \"clases\": \"0952 Prensa\", \"indice\": 71.705, \"variacion_mensual\": 0.3, \"variacion_anual\": 1.5, \"variacion_en_lo_que_va_de_ano\": 1.5}, {\"periodo\": \"2005-11-01T00:00:00\", \"clases\": \"0952 Prensa\", \"indice\": 71.49, \"variacion_mensual\": -0.1, \"variacion_anual\": 1.4, \"variacion_en_lo_que_va_de_ano\": 1.2}, {\"periodo\": \"2005-10-01T00:00:00\", \"clases\": \"0952 Prensa\", \"indice\": 71.539, \"variacion_mensual\": -0.2, \"variacion_anual\": 0.8, \"variacion_en_lo_que_va_de_ano\": 1.3}, {\"periodo\": \"2005-09-01T00:00:00\", \"clases\": \"0952 Prensa\", \"indice\": 71.717, \"variacion_mensual\": 0.4, \"variacion_anual\": 1.8, \"variacion_en_lo_que_va_de_ano\": 1.5}, {\"periodo\": \"2005-08-01T00:00:00\", \"clases\": \"0952 Prensa\", \"indice\": 71.442, \"variacion_mensual\": -0.7, \"variacion_anual\": 1.6, \"variacion_en_lo_que_va_de_ano\": 1.1}, {\"periodo\": \"2005-07-01T00:00:00\", \"clases\": \"0952 Prensa\", \"indice\": 71.954, \"variacion_mensual\": 0.4, \"variacion_anual\": 2.6, \"variacion_en_lo_que_va_de_ano\": 1.8}, {\"periodo\": \"2005-06-01T00:00:00\", \"clases\": \"0952 Prensa\", \"indice\": 71.654, \"variacion_mensual\": 0.7, \"variacion_anual\": 2.0, \"variacion_en_lo_que_va_de_ano\": 1.4}, {\"periodo\": \"2005-05-01T00:00:00\", \"clases\": \"0952 Prensa\", \"indice\": 71.156, \"variacion_mensual\": 0.1, \"variacion_anual\": 1.4, \"variacion_en_lo_que_va_de_ano\": 0.7}, {\"periodo\": \"2005-04-01T00:00:00\", \"clases\": \"0952 Prensa\", \"indice\": 71.094, \"variacion_mensual\": 0.3, \"variacion_anual\": 1.9, \"variacion_en_lo_que_va_de_ano\": 0.6}, {\"periodo\": \"2005-03-01T00:00:00\", \"clases\": \"0952 Prensa\", \"indice\": 70.855, \"variacion_mensual\": 0.1, \"variacion_anual\": 1.9, \"variacion_en_lo_que_va_de_ano\": 0.3}, {\"periodo\": \"2005-02-01T00:00:00\", \"clases\": \"0952 Prensa\", \"indice\": 70.801, \"variacion_mensual\": 0.3, \"variacion_anual\": 2.1, \"variacion_en_lo_que_va_de_ano\": 0.2}, {\"periodo\": \"2005-01-01T00:00:00\", \"clases\": \"0952 Prensa\", \"indice\": 70.623, \"variacion_mensual\": 0.0, \"variacion_anual\": 2.6, \"variacion_en_lo_que_va_de_ano\": 0.0}, {\"periodo\": \"2004-12-01T00:00:00\", \"clases\": \"0952 Prensa\", \"indice\": 70.652, \"variacion_mensual\": 0.2, \"variacion_anual\": 1.8, \"variacion_en_lo_que_va_de_ano\": 1.8}, {\"periodo\": \"2004-11-01T00:00:00\", \"clases\": \"0952 Prensa\", \"indice\": 70.494, \"variacion_mensual\": -0.7, \"variacion_anual\": 2.0, \"variacion_en_lo_que_va_de_ano\": 1.6}, {\"periodo\": \"2004-10-01T00:00:00\", \"clases\": \"0952 Prensa\", \"indice\": 70.984, \"variacion_mensual\": 0.7, \"variacion_anual\": 3.4, \"variacion_en_lo_que_va_de_ano\": 2.3}, {\"periodo\": \"2004-09-01T00:00:00\", \"clases\": \"0952 Prensa\", \"indice\": 70.469, \"variacion_mensual\": 0.3, \"variacion_anual\": 2.9, \"variacion_en_lo_que_va_de_ano\": 1.6}, {\"periodo\": \"2004-08-01T00:00:00\", \"clases\": \"0952 Prensa\", \"indice\": 70.288, \"variacion_mensual\": 0.2, \"variacion_anual\": 3.0, \"variacion_en_lo_que_va_de_ano\": 1.3}, {\"periodo\": \"2004-07-01T00:00:00\", \"clases\": \"0952 Prensa\", \"indice\": 70.118, \"variacion_mensual\": -0.2, \"variacion_anual\": 3.0, \"variacion_en_lo_que_va_de_ano\": 1.1}, {\"periodo\": \"2004-06-01T00:00:00\", \"clases\": \"0952 Prensa\", \"indice\": 70.249, \"variacion_mensual\": 0.1, \"variacion_anual\": 3.5, \"variacion_en_lo_que_va_de_ano\": 1.3}, {\"periodo\": \"2004-05-01T00:00:00\", \"clases\": \"0952 Prensa\", \"indice\": 70.207, \"variacion_mensual\": 0.6, \"variacion_anual\": 3.5, \"variacion_en_lo_que_va_de_ano\": 1.2}, {\"periodo\": \"2004-04-01T00:00:00\", \"clases\": \"0952 Prensa\", \"indice\": 69.77, \"variacion_mensual\": 0.3, \"variacion_anual\": 2.9, \"variacion_en_lo_que_va_de_ano\": 0.6}, {\"periodo\": \"2004-03-01T00:00:00\", \"clases\": \"0952 Prensa\", \"indice\": 69.528, \"variacion_mensual\": 0.2, \"variacion_anual\": 2.7, \"variacion_en_lo_que_va_de_ano\": 0.2}, {\"periodo\": \"2004-02-01T00:00:00\", \"clases\": \"0952 Prensa\", \"indice\": 69.359, \"variacion_mensual\": 0.7, \"variacion_anual\": 2.3, \"variacion_en_lo_que_va_de_ano\": 0.0}, {\"periodo\": \"2004-01-01T00:00:00\", \"clases\": \"0952 Prensa\", \"indice\": 68.854, \"variacion_mensual\": -0.8, \"variacion_anual\": 2.3, \"variacion_en_lo_que_va_de_ano\": -0.8}, {\"periodo\": \"2003-12-01T00:00:00\", \"clases\": \"0952 Prensa\", \"indice\": 69.375, \"variacion_mensual\": 0.4, \"variacion_anual\": 3.0, \"variacion_en_lo_que_va_de_ano\": 3.0}, {\"periodo\": \"2003-11-01T00:00:00\", \"clases\": \"0952 Prensa\", \"indice\": 69.125, \"variacion_mensual\": 0.7, \"variacion_anual\": 3.2, \"variacion_en_lo_que_va_de_ano\": 2.6}, {\"periodo\": \"2003-10-01T00:00:00\", \"clases\": \"0952 Prensa\", \"indice\": 68.657, \"variacion_mensual\": 0.3, \"variacion_anual\": 2.7, \"variacion_en_lo_que_va_de_ano\": 1.9}, {\"periodo\": \"2003-09-01T00:00:00\", \"clases\": \"0952 Prensa\", \"indice\": 68.479, \"variacion_mensual\": 0.3, \"variacion_anual\": 2.5, \"variacion_en_lo_que_va_de_ano\": 1.7}, {\"periodo\": \"2003-08-01T00:00:00\", \"clases\": \"0952 Prensa\", \"indice\": 68.26, \"variacion_mensual\": 0.2, \"variacion_anual\": 2.2, \"variacion_en_lo_que_va_de_ano\": 1.3}, {\"periodo\": \"2003-07-01T00:00:00\", \"clases\": \"0952 Prensa\", \"indice\": 68.104, \"variacion_mensual\": 0.3, \"variacion_anual\": 2.1, \"variacion_en_lo_que_va_de_ano\": 1.1}, {\"periodo\": \"2003-06-01T00:00:00\", \"clases\": \"0952 Prensa\", \"indice\": 67.871, \"variacion_mensual\": 0.0, \"variacion_anual\": 2.1, \"variacion_en_lo_que_va_de_ano\": 0.8}, {\"periodo\": \"2003-05-01T00:00:00\", \"clases\": \"0952 Prensa\", \"indice\": 67.86, \"variacion_mensual\": 0.1, \"variacion_anual\": 3.2, \"variacion_en_lo_que_va_de_ano\": 0.7}, {\"periodo\": \"2003-04-01T00:00:00\", \"clases\": \"0952 Prensa\", \"indice\": 67.793, \"variacion_mensual\": 0.1, \"variacion_anual\": 3.3, \"variacion_en_lo_que_va_de_ano\": 0.6}, {\"periodo\": \"2003-03-01T00:00:00\", \"clases\": \"0952 Prensa\", \"indice\": 67.703, \"variacion_mensual\": -0.1, \"variacion_anual\": 4.1, \"variacion_en_lo_que_va_de_ano\": 0.5}, {\"periodo\": \"2003-02-01T00:00:00\", \"clases\": \"0952 Prensa\", \"indice\": 67.797, \"variacion_mensual\": 0.7, \"variacion_anual\": 6.0, \"variacion_en_lo_que_va_de_ano\": 0.6}, {\"periodo\": \"2003-01-01T00:00:00\", \"clases\": \"0952 Prensa\", \"indice\": 67.326, \"variacion_mensual\": -0.1, \"variacion_anual\": 5.6, \"variacion_en_lo_que_va_de_ano\": -0.1}, {\"periodo\": \"2002-12-01T00:00:00\", \"clases\": \"0952 Prensa\", \"indice\": 67.362, \"variacion_mensual\": 0.5, \"variacion_anual\": 5.8, \"variacion_en_lo_que_va_de_ano\": 5.8}, {\"periodo\": \"2002-11-01T00:00:00\", \"clases\": \"0952 Prensa\", \"indice\": 67.011, \"variacion_mensual\": 0.3, \"variacion_anual\": 5.4, \"variacion_en_lo_que_va_de_ano\": 5.3}, {\"periodo\": \"2002-10-01T00:00:00\", \"clases\": \"0952 Prensa\", \"indice\": 66.841, \"variacion_mensual\": 0.0, \"variacion_anual\": 5.5, \"variacion_en_lo_que_va_de_ano\": 5.0}, {\"periodo\": \"2002-09-01T00:00:00\", \"clases\": \"0952 Prensa\", \"indice\": 66.817, \"variacion_mensual\": 0.1, \"variacion_anual\": 5.9, \"variacion_en_lo_que_va_de_ano\": 5.0}, {\"periodo\": \"2002-08-01T00:00:00\", \"clases\": \"0952 Prensa\", \"indice\": 66.777, \"variacion_mensual\": 0.1, \"variacion_anual\": 5.8, \"variacion_en_lo_que_va_de_ano\": 4.9}, {\"periodo\": \"2002-07-01T00:00:00\", \"clases\": \"0952 Prensa\", \"indice\": 66.694, \"variacion_mensual\": 0.3, \"variacion_anual\": 5.9, \"variacion_en_lo_que_va_de_ano\": 4.8}, {\"periodo\": \"2002-06-01T00:00:00\", \"clases\": \"0952 Prensa\", \"indice\": 66.507, \"variacion_mensual\": 1.2, \"variacion_anual\": 5.7, \"variacion_en_lo_que_va_de_ano\": 4.5}, {\"periodo\": \"2002-05-01T00:00:00\", \"clases\": \"0952 Prensa\", \"indice\": 65.739, \"variacion_mensual\": 0.2, \"variacion_anual\": 4.3, \"variacion_en_lo_que_va_de_ano\": 3.3}, {\"periodo\": \"2002-04-01T00:00:00\", \"clases\": \"0952 Prensa\", \"indice\": 65.635, \"variacion_mensual\": 1.0, \"variacion_anual\": 4.2, \"variacion_en_lo_que_va_de_ano\": 3.1}, {\"periodo\": \"2002-03-01T00:00:00\", \"clases\": \"0952 Prensa\", \"indice\": 65.017, \"variacion_mensual\": 1.7, \"variacion_anual\": 3.3, \"variacion_en_lo_que_va_de_ano\": 2.1}, {\"periodo\": \"2002-02-01T00:00:00\", \"clases\": \"0952 Prensa\", \"indice\": 63.938, \"variacion_mensual\": 0.3, \"variacion_anual\": 1.6, \"variacion_en_lo_que_va_de_ano\": 0.4}, {\"periodo\": \"2002-01-01T00:00:00\", \"clases\": \"0952 Prensa\", \"indice\": 63.748, \"variacion_mensual\": 0.1, \"variacion_anual\": 1.6, \"variacion_en_lo_que_va_de_ano\": 0.1}]}}, {\"mode\": \"vega-lite\"});\n",
       "</script>"
      ],
      "text/plain": [
       "alt.Chart(...)"
      ]
     },
     "execution_count": 27,
     "metadata": {},
     "output_type": "execute_result"
    }
   ],
   "source": [
    "import altair as alt\n",
    "\n",
    "alt.Chart(ipc_prensa).mark_line().encode(\n",
    "    x=alt.X(\"periodo\", title=\"Period\", axis=alt.Axis(labelAngle=-45)),\n",
    "    y=alt.Y(\"indice\", title=\"Index\"),\n",
    "    tooltip=[\"periodo\", \"indice\"],\n",
    ").properties(width=\"container\", height=400, title=\"IPC Prensa Over Time\").interactive()"
   ]
  }
 ],
 "metadata": {
  "kernelspec": {
   "display_name": ".venv",
   "language": "python",
   "name": "python3"
  },
  "language_info": {
   "codemirror_mode": {
    "name": "ipython",
    "version": 3
   },
   "file_extension": ".py",
   "mimetype": "text/x-python",
   "name": "python",
   "nbconvert_exporter": "python",
   "pygments_lexer": "ipython3",
   "version": "3.12.3"
  }
 },
 "nbformat": 4,
 "nbformat_minor": 2
}
